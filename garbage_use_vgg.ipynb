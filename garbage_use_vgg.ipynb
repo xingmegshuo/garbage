{
 "cells": [
  {
   "cell_type": "code",
   "execution_count": 1,
   "metadata": {},
   "outputs": [
    {
     "name": "stderr",
     "output_type": "stream",
     "text": [
      "Using TensorFlow backend.\n"
     ]
    }
   ],
   "source": [
    "from keras import applications\n",
    "from keras.preprocessing.image import ImageDataGenerator\n",
    "from keras.models import Sequential\n",
    "from keras.layers import Dense,Dropout,Flatten,Conv2D,MaxPool2D\n",
    "from keras.utils import np_utils\n",
    "# from keras.callbacks import Callback"
   ]
  },
  {
   "cell_type": "code",
   "execution_count": 2,
   "metadata": {},
   "outputs": [
    {
     "name": "stdout",
     "output_type": "stream",
     "text": [
      "Found 12033 images belonging to 2 classes.\n",
      "Found 1338 images belonging to 2 classes.\n"
     ]
    },
    {
     "name": "stderr",
     "output_type": "stream",
     "text": [
      "/home/xms/.virtualenvs/dl/lib/python3.5/site-packages/ipykernel_launcher.py:42: UserWarning: Update your `fit_generator` call to the Keras 2 API: `fit_generator(<keras.pre..., steps_per_epoch=1250, validation_steps=8, epochs=20, validation_data=<keras.pre...)`\n"
     ]
    },
    {
     "name": "stdout",
     "output_type": "stream",
     "text": [
      "Epoch 1/20\n",
      "1250/1250 [==============================] - 2623s 2s/step - loss: 0.5624 - acc: 0.7321 - val_loss: 0.5020 - val_acc: 0.6719\n",
      "Epoch 2/20\n",
      "1250/1250 [==============================] - 2593s 2s/step - loss: 0.5060 - acc: 0.7687 - val_loss: 0.4673 - val_acc: 0.8125\n",
      "Epoch 3/20\n",
      "1250/1250 [==============================] - 2627s 2s/step - loss: 0.4933 - acc: 0.7763 - val_loss: 0.4291 - val_acc: 0.8438\n",
      "Epoch 4/20\n",
      "1250/1250 [==============================] - 2674s 2s/step - loss: 0.4664 - acc: 0.7935 - val_loss: 0.4180 - val_acc: 0.8438\n",
      "Epoch 5/20\n",
      "1250/1250 [==============================] - 2594s 2s/step - loss: 0.4466 - acc: 0.8003 - val_loss: 0.4937 - val_acc: 0.7656\n",
      "Epoch 6/20\n",
      "1250/1250 [==============================] - 2720s 2s/step - loss: 0.4388 - acc: 0.8077 - val_loss: 0.4806 - val_acc: 0.7344\n",
      "Epoch 7/20\n",
      "1250/1250 [==============================] - 2610s 2s/step - loss: 0.4301 - acc: 0.8117 - val_loss: 0.3859 - val_acc: 0.7969\n",
      "Epoch 8/20\n",
      "1250/1250 [==============================] - 2616s 2s/step - loss: 0.4083 - acc: 0.8201 - val_loss: 0.4441 - val_acc: 0.8125\n",
      "Epoch 9/20\n",
      " 465/1250 [==========>...................] - ETA: 27:20 - loss: 0.4001 - acc: 0.8220"
     ]
    },
    {
     "ename": "KeyboardInterrupt",
     "evalue": "",
     "output_type": "error",
     "traceback": [
      "\u001b[0;31m---------------------------------------------------------------------------\u001b[0m",
      "\u001b[0;31mKeyboardInterrupt\u001b[0m                         Traceback (most recent call last)",
      "\u001b[0;32m<ipython-input-2-a0eccad9a14d>\u001b[0m in \u001b[0;36m<module>\u001b[0;34m\u001b[0m\n\u001b[1;32m     40\u001b[0m               metrics=['accuracy'])\n\u001b[1;32m     41\u001b[0m model.fit_generator(train_generator,samples_per_epoch=10000,epochs=20,\n\u001b[0;32m---> 42\u001b[0;31m                    validation_data=validation_generator,validation_steps=8)\n\u001b[0m",
      "\u001b[0;32m~/.virtualenvs/dl/lib/python3.5/site-packages/keras/legacy/interfaces.py\u001b[0m in \u001b[0;36mwrapper\u001b[0;34m(*args, **kwargs)\u001b[0m\n\u001b[1;32m     85\u001b[0m                 warnings.warn('Update your `' + object_name +\n\u001b[1;32m     86\u001b[0m                               '` call to the Keras 2 API: ' + signature, stacklevel=2)\n\u001b[0;32m---> 87\u001b[0;31m             \u001b[0;32mreturn\u001b[0m \u001b[0mfunc\u001b[0m\u001b[0;34m(\u001b[0m\u001b[0;34m*\u001b[0m\u001b[0margs\u001b[0m\u001b[0;34m,\u001b[0m \u001b[0;34m**\u001b[0m\u001b[0mkwargs\u001b[0m\u001b[0;34m)\u001b[0m\u001b[0;34m\u001b[0m\u001b[0m\n\u001b[0m\u001b[1;32m     88\u001b[0m         \u001b[0mwrapper\u001b[0m\u001b[0;34m.\u001b[0m\u001b[0m_original_function\u001b[0m \u001b[0;34m=\u001b[0m \u001b[0mfunc\u001b[0m\u001b[0;34m\u001b[0m\u001b[0m\n\u001b[1;32m     89\u001b[0m         \u001b[0;32mreturn\u001b[0m \u001b[0mwrapper\u001b[0m\u001b[0;34m\u001b[0m\u001b[0m\n",
      "\u001b[0;32m~/.virtualenvs/dl/lib/python3.5/site-packages/keras/models.py\u001b[0m in \u001b[0;36mfit_generator\u001b[0;34m(self, generator, steps_per_epoch, epochs, verbose, callbacks, validation_data, validation_steps, class_weight, max_queue_size, workers, use_multiprocessing, shuffle, initial_epoch)\u001b[0m\n\u001b[1;32m   1225\u001b[0m                                         \u001b[0muse_multiprocessing\u001b[0m\u001b[0;34m=\u001b[0m\u001b[0muse_multiprocessing\u001b[0m\u001b[0;34m,\u001b[0m\u001b[0;34m\u001b[0m\u001b[0m\n\u001b[1;32m   1226\u001b[0m                                         \u001b[0mshuffle\u001b[0m\u001b[0;34m=\u001b[0m\u001b[0mshuffle\u001b[0m\u001b[0;34m,\u001b[0m\u001b[0;34m\u001b[0m\u001b[0m\n\u001b[0;32m-> 1227\u001b[0;31m                                         initial_epoch=initial_epoch)\n\u001b[0m\u001b[1;32m   1228\u001b[0m \u001b[0;34m\u001b[0m\u001b[0m\n\u001b[1;32m   1229\u001b[0m     \u001b[0;34m@\u001b[0m\u001b[0minterfaces\u001b[0m\u001b[0;34m.\u001b[0m\u001b[0mlegacy_generator_methods_support\u001b[0m\u001b[0;34m\u001b[0m\u001b[0m\n",
      "\u001b[0;32m~/.virtualenvs/dl/lib/python3.5/site-packages/keras/legacy/interfaces.py\u001b[0m in \u001b[0;36mwrapper\u001b[0;34m(*args, **kwargs)\u001b[0m\n\u001b[1;32m     85\u001b[0m                 warnings.warn('Update your `' + object_name +\n\u001b[1;32m     86\u001b[0m                               '` call to the Keras 2 API: ' + signature, stacklevel=2)\n\u001b[0;32m---> 87\u001b[0;31m             \u001b[0;32mreturn\u001b[0m \u001b[0mfunc\u001b[0m\u001b[0;34m(\u001b[0m\u001b[0;34m*\u001b[0m\u001b[0margs\u001b[0m\u001b[0;34m,\u001b[0m \u001b[0;34m**\u001b[0m\u001b[0mkwargs\u001b[0m\u001b[0;34m)\u001b[0m\u001b[0;34m\u001b[0m\u001b[0m\n\u001b[0m\u001b[1;32m     88\u001b[0m         \u001b[0mwrapper\u001b[0m\u001b[0;34m.\u001b[0m\u001b[0m_original_function\u001b[0m \u001b[0;34m=\u001b[0m \u001b[0mfunc\u001b[0m\u001b[0;34m\u001b[0m\u001b[0m\n\u001b[1;32m     89\u001b[0m         \u001b[0;32mreturn\u001b[0m \u001b[0mwrapper\u001b[0m\u001b[0;34m\u001b[0m\u001b[0m\n",
      "\u001b[0;32m~/.virtualenvs/dl/lib/python3.5/site-packages/keras/engine/training.py\u001b[0m in \u001b[0;36mfit_generator\u001b[0;34m(self, generator, steps_per_epoch, epochs, verbose, callbacks, validation_data, validation_steps, class_weight, max_queue_size, workers, use_multiprocessing, shuffle, initial_epoch)\u001b[0m\n\u001b[1;32m   2145\u001b[0m                     outs = self.train_on_batch(x, y,\n\u001b[1;32m   2146\u001b[0m                                                \u001b[0msample_weight\u001b[0m\u001b[0;34m=\u001b[0m\u001b[0msample_weight\u001b[0m\u001b[0;34m,\u001b[0m\u001b[0;34m\u001b[0m\u001b[0m\n\u001b[0;32m-> 2147\u001b[0;31m                                                class_weight=class_weight)\n\u001b[0m\u001b[1;32m   2148\u001b[0m \u001b[0;34m\u001b[0m\u001b[0m\n\u001b[1;32m   2149\u001b[0m                     \u001b[0;32mif\u001b[0m \u001b[0;32mnot\u001b[0m \u001b[0misinstance\u001b[0m\u001b[0;34m(\u001b[0m\u001b[0mouts\u001b[0m\u001b[0;34m,\u001b[0m \u001b[0mlist\u001b[0m\u001b[0;34m)\u001b[0m\u001b[0;34m:\u001b[0m\u001b[0;34m\u001b[0m\u001b[0m\n",
      "\u001b[0;32m~/.virtualenvs/dl/lib/python3.5/site-packages/keras/engine/training.py\u001b[0m in \u001b[0;36mtrain_on_batch\u001b[0;34m(self, x, y, sample_weight, class_weight)\u001b[0m\n\u001b[1;32m   1837\u001b[0m             \u001b[0mins\u001b[0m \u001b[0;34m=\u001b[0m \u001b[0mx\u001b[0m \u001b[0;34m+\u001b[0m \u001b[0my\u001b[0m \u001b[0;34m+\u001b[0m \u001b[0msample_weights\u001b[0m\u001b[0;34m\u001b[0m\u001b[0m\n\u001b[1;32m   1838\u001b[0m         \u001b[0mself\u001b[0m\u001b[0;34m.\u001b[0m\u001b[0m_make_train_function\u001b[0m\u001b[0;34m(\u001b[0m\u001b[0;34m)\u001b[0m\u001b[0;34m\u001b[0m\u001b[0m\n\u001b[0;32m-> 1839\u001b[0;31m         \u001b[0moutputs\u001b[0m \u001b[0;34m=\u001b[0m \u001b[0mself\u001b[0m\u001b[0;34m.\u001b[0m\u001b[0mtrain_function\u001b[0m\u001b[0;34m(\u001b[0m\u001b[0mins\u001b[0m\u001b[0;34m)\u001b[0m\u001b[0;34m\u001b[0m\u001b[0m\n\u001b[0m\u001b[1;32m   1840\u001b[0m         \u001b[0;32mif\u001b[0m \u001b[0mlen\u001b[0m\u001b[0;34m(\u001b[0m\u001b[0moutputs\u001b[0m\u001b[0;34m)\u001b[0m \u001b[0;34m==\u001b[0m \u001b[0;36m1\u001b[0m\u001b[0;34m:\u001b[0m\u001b[0;34m\u001b[0m\u001b[0m\n\u001b[1;32m   1841\u001b[0m             \u001b[0;32mreturn\u001b[0m \u001b[0moutputs\u001b[0m\u001b[0;34m[\u001b[0m\u001b[0;36m0\u001b[0m\u001b[0;34m]\u001b[0m\u001b[0;34m\u001b[0m\u001b[0m\n",
      "\u001b[0;32m~/.virtualenvs/dl/lib/python3.5/site-packages/keras/backend/tensorflow_backend.py\u001b[0m in \u001b[0;36m__call__\u001b[0;34m(self, inputs)\u001b[0m\n\u001b[1;32m   2355\u001b[0m         \u001b[0msession\u001b[0m \u001b[0;34m=\u001b[0m \u001b[0mget_session\u001b[0m\u001b[0;34m(\u001b[0m\u001b[0;34m)\u001b[0m\u001b[0;34m\u001b[0m\u001b[0m\n\u001b[1;32m   2356\u001b[0m         updated = session.run(fetches=fetches, feed_dict=feed_dict,\n\u001b[0;32m-> 2357\u001b[0;31m                               **self.session_kwargs)\n\u001b[0m\u001b[1;32m   2358\u001b[0m         \u001b[0;32mreturn\u001b[0m \u001b[0mupdated\u001b[0m\u001b[0;34m[\u001b[0m\u001b[0;34m:\u001b[0m\u001b[0mlen\u001b[0m\u001b[0;34m(\u001b[0m\u001b[0mself\u001b[0m\u001b[0;34m.\u001b[0m\u001b[0moutputs\u001b[0m\u001b[0;34m)\u001b[0m\u001b[0;34m]\u001b[0m\u001b[0;34m\u001b[0m\u001b[0m\n\u001b[1;32m   2359\u001b[0m \u001b[0;34m\u001b[0m\u001b[0m\n",
      "\u001b[0;32m~/.virtualenvs/dl/lib/python3.5/site-packages/tensorflow/python/client/session.py\u001b[0m in \u001b[0;36mrun\u001b[0;34m(self, fetches, feed_dict, options, run_metadata)\u001b[0m\n\u001b[1;32m    887\u001b[0m     \u001b[0;32mtry\u001b[0m\u001b[0;34m:\u001b[0m\u001b[0;34m\u001b[0m\u001b[0m\n\u001b[1;32m    888\u001b[0m       result = self._run(None, fetches, feed_dict, options_ptr,\n\u001b[0;32m--> 889\u001b[0;31m                          run_metadata_ptr)\n\u001b[0m\u001b[1;32m    890\u001b[0m       \u001b[0;32mif\u001b[0m \u001b[0mrun_metadata\u001b[0m\u001b[0;34m:\u001b[0m\u001b[0;34m\u001b[0m\u001b[0m\n\u001b[1;32m    891\u001b[0m         \u001b[0mproto_data\u001b[0m \u001b[0;34m=\u001b[0m \u001b[0mtf_session\u001b[0m\u001b[0;34m.\u001b[0m\u001b[0mTF_GetBuffer\u001b[0m\u001b[0;34m(\u001b[0m\u001b[0mrun_metadata_ptr\u001b[0m\u001b[0;34m)\u001b[0m\u001b[0;34m\u001b[0m\u001b[0m\n",
      "\u001b[0;32m~/.virtualenvs/dl/lib/python3.5/site-packages/tensorflow/python/client/session.py\u001b[0m in \u001b[0;36m_run\u001b[0;34m(self, handle, fetches, feed_dict, options, run_metadata)\u001b[0m\n\u001b[1;32m   1118\u001b[0m     \u001b[0;32mif\u001b[0m \u001b[0mfinal_fetches\u001b[0m \u001b[0;32mor\u001b[0m \u001b[0mfinal_targets\u001b[0m \u001b[0;32mor\u001b[0m \u001b[0;34m(\u001b[0m\u001b[0mhandle\u001b[0m \u001b[0;32mand\u001b[0m \u001b[0mfeed_dict_tensor\u001b[0m\u001b[0;34m)\u001b[0m\u001b[0;34m:\u001b[0m\u001b[0;34m\u001b[0m\u001b[0m\n\u001b[1;32m   1119\u001b[0m       results = self._do_run(handle, final_targets, final_fetches,\n\u001b[0;32m-> 1120\u001b[0;31m                              feed_dict_tensor, options, run_metadata)\n\u001b[0m\u001b[1;32m   1121\u001b[0m     \u001b[0;32melse\u001b[0m\u001b[0;34m:\u001b[0m\u001b[0;34m\u001b[0m\u001b[0m\n\u001b[1;32m   1122\u001b[0m       \u001b[0mresults\u001b[0m \u001b[0;34m=\u001b[0m \u001b[0;34m[\u001b[0m\u001b[0;34m]\u001b[0m\u001b[0;34m\u001b[0m\u001b[0m\n",
      "\u001b[0;32m~/.virtualenvs/dl/lib/python3.5/site-packages/tensorflow/python/client/session.py\u001b[0m in \u001b[0;36m_do_run\u001b[0;34m(self, handle, target_list, fetch_list, feed_dict, options, run_metadata)\u001b[0m\n\u001b[1;32m   1315\u001b[0m     \u001b[0;32mif\u001b[0m \u001b[0mhandle\u001b[0m \u001b[0;32mis\u001b[0m \u001b[0;32mNone\u001b[0m\u001b[0;34m:\u001b[0m\u001b[0;34m\u001b[0m\u001b[0m\n\u001b[1;32m   1316\u001b[0m       return self._do_call(_run_fn, self._session, feeds, fetches, targets,\n\u001b[0;32m-> 1317\u001b[0;31m                            options, run_metadata)\n\u001b[0m\u001b[1;32m   1318\u001b[0m     \u001b[0;32melse\u001b[0m\u001b[0;34m:\u001b[0m\u001b[0;34m\u001b[0m\u001b[0m\n\u001b[1;32m   1319\u001b[0m       \u001b[0;32mreturn\u001b[0m \u001b[0mself\u001b[0m\u001b[0;34m.\u001b[0m\u001b[0m_do_call\u001b[0m\u001b[0;34m(\u001b[0m\u001b[0m_prun_fn\u001b[0m\u001b[0;34m,\u001b[0m \u001b[0mself\u001b[0m\u001b[0;34m.\u001b[0m\u001b[0m_session\u001b[0m\u001b[0;34m,\u001b[0m \u001b[0mhandle\u001b[0m\u001b[0;34m,\u001b[0m \u001b[0mfeeds\u001b[0m\u001b[0;34m,\u001b[0m \u001b[0mfetches\u001b[0m\u001b[0;34m)\u001b[0m\u001b[0;34m\u001b[0m\u001b[0m\n",
      "\u001b[0;32m~/.virtualenvs/dl/lib/python3.5/site-packages/tensorflow/python/client/session.py\u001b[0m in \u001b[0;36m_do_call\u001b[0;34m(self, fn, *args)\u001b[0m\n\u001b[1;32m   1321\u001b[0m   \u001b[0;32mdef\u001b[0m \u001b[0m_do_call\u001b[0m\u001b[0;34m(\u001b[0m\u001b[0mself\u001b[0m\u001b[0;34m,\u001b[0m \u001b[0mfn\u001b[0m\u001b[0;34m,\u001b[0m \u001b[0;34m*\u001b[0m\u001b[0margs\u001b[0m\u001b[0;34m)\u001b[0m\u001b[0;34m:\u001b[0m\u001b[0;34m\u001b[0m\u001b[0m\n\u001b[1;32m   1322\u001b[0m     \u001b[0;32mtry\u001b[0m\u001b[0;34m:\u001b[0m\u001b[0;34m\u001b[0m\u001b[0m\n\u001b[0;32m-> 1323\u001b[0;31m       \u001b[0;32mreturn\u001b[0m \u001b[0mfn\u001b[0m\u001b[0;34m(\u001b[0m\u001b[0;34m*\u001b[0m\u001b[0margs\u001b[0m\u001b[0;34m)\u001b[0m\u001b[0;34m\u001b[0m\u001b[0m\n\u001b[0m\u001b[1;32m   1324\u001b[0m     \u001b[0;32mexcept\u001b[0m \u001b[0merrors\u001b[0m\u001b[0;34m.\u001b[0m\u001b[0mOpError\u001b[0m \u001b[0;32mas\u001b[0m \u001b[0me\u001b[0m\u001b[0;34m:\u001b[0m\u001b[0;34m\u001b[0m\u001b[0m\n\u001b[1;32m   1325\u001b[0m       \u001b[0mmessage\u001b[0m \u001b[0;34m=\u001b[0m \u001b[0mcompat\u001b[0m\u001b[0;34m.\u001b[0m\u001b[0mas_text\u001b[0m\u001b[0;34m(\u001b[0m\u001b[0me\u001b[0m\u001b[0;34m.\u001b[0m\u001b[0mmessage\u001b[0m\u001b[0;34m)\u001b[0m\u001b[0;34m\u001b[0m\u001b[0m\n",
      "\u001b[0;32m~/.virtualenvs/dl/lib/python3.5/site-packages/tensorflow/python/client/session.py\u001b[0m in \u001b[0;36m_run_fn\u001b[0;34m(session, feed_dict, fetch_list, target_list, options, run_metadata)\u001b[0m\n\u001b[1;32m   1300\u001b[0m           return tf_session.TF_Run(session, options,\n\u001b[1;32m   1301\u001b[0m                                    \u001b[0mfeed_dict\u001b[0m\u001b[0;34m,\u001b[0m \u001b[0mfetch_list\u001b[0m\u001b[0;34m,\u001b[0m \u001b[0mtarget_list\u001b[0m\u001b[0;34m,\u001b[0m\u001b[0;34m\u001b[0m\u001b[0m\n\u001b[0;32m-> 1302\u001b[0;31m                                    status, run_metadata)\n\u001b[0m\u001b[1;32m   1303\u001b[0m \u001b[0;34m\u001b[0m\u001b[0m\n\u001b[1;32m   1304\u001b[0m     \u001b[0;32mdef\u001b[0m \u001b[0m_prun_fn\u001b[0m\u001b[0;34m(\u001b[0m\u001b[0msession\u001b[0m\u001b[0;34m,\u001b[0m \u001b[0mhandle\u001b[0m\u001b[0;34m,\u001b[0m \u001b[0mfeed_dict\u001b[0m\u001b[0;34m,\u001b[0m \u001b[0mfetch_list\u001b[0m\u001b[0;34m)\u001b[0m\u001b[0;34m:\u001b[0m\u001b[0;34m\u001b[0m\u001b[0m\n",
      "\u001b[0;31mKeyboardInterrupt\u001b[0m: "
     ]
    }
   ],
   "source": [
    "# 不加载vgg\n",
    "batch_size = 8\n",
    "train_datagen = ImageDataGenerator(rescale=1/255.,shear_range=0.2,zoom_range=0.2,horizontal_flip=True)\n",
    "val_datagen = ImageDataGenerator(rescale=1/255.)\n",
    "\n",
    "\n",
    "train_generator = train_datagen.flow_from_directory('./data/train/',\n",
    "                                                   target_size=(400,400),\n",
    "                                                    batch_size=batch_size,\n",
    "                                                    class_mode='categorical'\n",
    "                                                   )\n",
    "validation_generator = val_datagen.flow_from_directory('./data/vialid/',\n",
    "                                                      target_size=(400,400),\n",
    "                                                       batch_size=batch_size,\n",
    "                                                       class_mode='categorical'\n",
    "                                                      )\n",
    "\n",
    "model = Sequential()\n",
    "model.add(Conv2D(32,(3,3),input_shape=(400,400,3),padding='same',activation='relu'))\n",
    "model.add(MaxPool2D(pool_size=(2,2)))\n",
    "\n",
    "model.add(Conv2D(32,(3,3),padding='same',activation='relu'))\n",
    "model.add(MaxPool2D(pool_size=(2,2)))\n",
    "\n",
    "model.add(Conv2D(64,(3,3),padding='same',activation='relu'))\n",
    "model.add(MaxPool2D(pool_size=(2,2)))\n",
    "\n",
    "model.add(Dropout(0.25))\n",
    "model.add(Flatten())\n",
    "model.add(Dense(64,activation='relu'))\n",
    "model.add(Dropout(0.5))\n",
    "model.add(Dense(2,activation='softmax'))\n",
    "# epochs=20\n",
    "# lrate=0.01\n",
    "# decay = lrate/epochs\n",
    "# sgd = SG\n",
    "\n",
    "model.compile(optimizer='sgd',\n",
    "              loss='binary_crossentropy',\n",
    "              metrics=['accuracy'])\n",
    "model.fit_generator(train_generator,samples_per_epoch=10000,epochs=20,\n",
    "                   validation_data=validation_generator,validation_steps=8)"
   ]
  },
  {
   "cell_type": "code",
   "execution_count": 4,
   "metadata": {},
   "outputs": [],
   "source": [
    "import numpy as np\n",
    "model = applications.VGG16(include_top=False,weights='imagenet')\n",
    "datagen = ImageDataGenerator(rescale=1./255)"
   ]
  },
  {
   "cell_type": "code",
   "execution_count": 5,
   "metadata": {},
   "outputs": [
    {
     "name": "stdout",
     "output_type": "stream",
     "text": [
      "Found 11272 images belonging to 2 classes.\n",
      "Found 1246 images belonging to 2 classes.\n"
     ]
    }
   ],
   "source": [
    "# import time\n",
    "# from PIL import Image\n",
    "generator = datagen.flow_from_directory('./data/train/',\n",
    "                                       target_size=(224,224),\n",
    "                                        batch_size=2,\n",
    "                                        class_mode=None,\n",
    "                                        shuffle=False\n",
    "                                       )\n",
    "\n",
    "bottleneck_features_train = model.predict_generator(generator,5636)\n",
    "np.save(open('./vgg/bottleneck_features_train.npy','wb'),bottleneck_features_train)\n",
    "\n",
    "generator = datagen.flow_from_directory('./data/vialid/',\n",
    "                                       target_size=(224,224),\n",
    "                                        batch_size=2,\n",
    "                                        class_mode=None,\n",
    "                                        shuffle=False\n",
    "                                       )\n",
    "\n",
    "bottleneck_features_vialid = model.predict_generator(generator,623)\n",
    "np.save(open('./vgg/bottleneck_features_vilad.npy','wb'),bottleneck_features_vialid)\n"
   ]
  },
  {
   "cell_type": "code",
   "execution_count": 7,
   "metadata": {},
   "outputs": [],
   "source": [
    "from matplotlib import pyplot as plt\n",
    "def plot_training(history):\n",
    "    acc = history.history['acc']\n",
    "    val_acc = history.history['val_acc']\n",
    "    loss = history.history['loss']\n",
    "    val_loss = history.history['val_loss']\n",
    "    epochs = range(len(acc))\n",
    "    plt.plot(epochs,acc,'b-')\n",
    "    plt.plot(epochs,val_acc,'r')\n",
    "    plt.title('Training and validation accuracy')\n",
    "    plt.figure()\n",
    "    plt.plot(epochs,loss,'b-')\n",
    "    plt.plot(epochs,val_loss,'r')\n",
    "    plt.title('Training and validation loss')\n",
    "    plt.show()"
   ]
  },
  {
   "cell_type": "code",
   "execution_count": 11,
   "metadata": {},
   "outputs": [
    {
     "name": "stdout",
     "output_type": "stream",
     "text": [
      "Train on 11272 samples, validate on 1246 samples\n",
      "Epoch 1/200\n",
      "11272/11272 [==============================] - 82s 7ms/step - loss: 0.4256 - acc: 0.8074 - val_loss: 0.4612 - val_acc: 0.7721\n",
      "Epoch 2/200\n",
      "11272/11272 [==============================] - 81s 7ms/step - loss: 0.3202 - acc: 0.8628 - val_loss: 0.2910 - val_acc: 0.8539\n",
      "Epoch 3/200\n",
      "11272/11272 [==============================] - 81s 7ms/step - loss: 0.2767 - acc: 0.8829 - val_loss: 0.2342 - val_acc: 0.9013\n",
      "Epoch 4/200\n",
      "11272/11272 [==============================] - 81s 7ms/step - loss: 0.2547 - acc: 0.8933 - val_loss: 0.2490 - val_acc: 0.8933\n",
      "Epoch 5/200\n",
      "11272/11272 [==============================] - 82s 7ms/step - loss: 0.2344 - acc: 0.9051 - val_loss: 0.3033 - val_acc: 0.8844\n",
      "Epoch 6/200\n",
      "11272/11272 [==============================] - 82s 7ms/step - loss: 0.2171 - acc: 0.9147 - val_loss: 0.2216 - val_acc: 0.9061\n",
      "Epoch 7/200\n",
      "11272/11272 [==============================] - 82s 7ms/step - loss: 0.2022 - acc: 0.9214 - val_loss: 0.2227 - val_acc: 0.9165\n",
      "Epoch 8/200\n",
      "11272/11272 [==============================] - 82s 7ms/step - loss: 0.1875 - acc: 0.9236 - val_loss: 0.4098 - val_acc: 0.7970\n",
      "Epoch 9/200\n",
      "11272/11272 [==============================] - 82s 7ms/step - loss: 0.1712 - acc: 0.9299 - val_loss: 0.5051 - val_acc: 0.8299\n",
      "Epoch 10/200\n",
      "11272/11272 [==============================] - 82s 7ms/step - loss: 0.1714 - acc: 0.9331 - val_loss: 0.2071 - val_acc: 0.9318\n",
      "Epoch 11/200\n",
      "11272/11272 [==============================] - 82s 7ms/step - loss: 0.1601 - acc: 0.9363 - val_loss: 0.2140 - val_acc: 0.9262\n",
      "Epoch 12/200\n",
      "11272/11272 [==============================] - 83s 7ms/step - loss: 0.1473 - acc: 0.9414 - val_loss: 0.2021 - val_acc: 0.9165\n",
      "Epoch 13/200\n",
      "11272/11272 [==============================] - 83s 7ms/step - loss: 0.1447 - acc: 0.9437 - val_loss: 0.2443 - val_acc: 0.9141\n",
      "Epoch 14/200\n",
      "11272/11272 [==============================] - 83s 7ms/step - loss: 0.1379 - acc: 0.9446 - val_loss: 0.2323 - val_acc: 0.9117\n",
      "Epoch 15/200\n",
      "11272/11272 [==============================] - 83s 7ms/step - loss: 0.1296 - acc: 0.9476 - val_loss: 0.2772 - val_acc: 0.9109\n",
      "Epoch 16/200\n",
      "11272/11272 [==============================] - 83s 7ms/step - loss: 0.1217 - acc: 0.9521 - val_loss: 0.2066 - val_acc: 0.9117\n",
      "Epoch 17/200\n",
      "11272/11272 [==============================] - 83s 7ms/step - loss: 0.1161 - acc: 0.9559 - val_loss: 0.4460 - val_acc: 0.8090\n",
      "Epoch 18/200\n",
      "11272/11272 [==============================] - 83s 7ms/step - loss: 0.1099 - acc: 0.9555 - val_loss: 0.2218 - val_acc: 0.9350\n",
      "Epoch 19/200\n",
      "11272/11272 [==============================] - 83s 7ms/step - loss: 0.0625 - acc: 0.9768 - val_loss: 0.2021 - val_acc: 0.9374\n",
      "Epoch 20/200\n",
      "11272/11272 [==============================] - 83s 7ms/step - loss: 0.0578 - acc: 0.9786 - val_loss: 0.2048 - val_acc: 0.9374\n",
      "Epoch 21/200\n",
      "11272/11272 [==============================] - 83s 7ms/step - loss: 0.0534 - acc: 0.9810 - val_loss: 0.2079 - val_acc: 0.9350\n",
      "Epoch 22/200\n",
      "11272/11272 [==============================] - 83s 7ms/step - loss: 0.0525 - acc: 0.9806 - val_loss: 0.2043 - val_acc: 0.9390\n",
      "Epoch 23/200\n",
      "11272/11272 [==============================] - 83s 7ms/step - loss: 0.0515 - acc: 0.9827 - val_loss: 0.2069 - val_acc: 0.9398\n",
      "Epoch 24/200\n",
      "11272/11272 [==============================] - 83s 7ms/step - loss: 0.0470 - acc: 0.9847 - val_loss: 0.2102 - val_acc: 0.9374\n",
      "Epoch 25/200\n",
      "11272/11272 [==============================] - 83s 7ms/step - loss: 0.0485 - acc: 0.9828 - val_loss: 0.2094 - val_acc: 0.9390\n",
      "Epoch 26/200\n",
      "11272/11272 [==============================] - 83s 7ms/step - loss: 0.0469 - acc: 0.9834 - val_loss: 0.2105 - val_acc: 0.9398\n",
      "Epoch 27/200\n",
      "11272/11272 [==============================] - 83s 7ms/step - loss: 0.0464 - acc: 0.9843 - val_loss: 0.2107 - val_acc: 0.9382\n",
      "Epoch 28/200\n",
      "11272/11272 [==============================] - 83s 7ms/step - loss: 0.0472 - acc: 0.9841 - val_loss: 0.2094 - val_acc: 0.9382\n",
      "Epoch 29/200\n",
      "11272/11272 [==============================] - 83s 7ms/step - loss: 0.0462 - acc: 0.9850 - val_loss: 0.2096 - val_acc: 0.9382\n",
      "Epoch 30/200\n",
      "11272/11272 [==============================] - 83s 7ms/step - loss: 0.0469 - acc: 0.9854 - val_loss: 0.2098 - val_acc: 0.9382\n",
      "Epoch 31/200\n",
      "11272/11272 [==============================] - 83s 7ms/step - loss: 0.0471 - acc: 0.9844 - val_loss: 0.2099 - val_acc: 0.9382\n",
      "Epoch 32/200\n",
      "11272/11272 [==============================] - 83s 7ms/step - loss: 0.0461 - acc: 0.9847 - val_loss: 0.2101 - val_acc: 0.9382\n",
      "Epoch 00032: early stopping\n"
     ]
    },
    {
     "data": {
      "image/png": "[encoded data removed]",
      "text/plain": [
       "<Figure size 432x288 with 1 Axes>"
      ]
     },
     "metadata": {
      "needs_background": "light"
     },
     "output_type": "display_data"
    },
    {
     "data": {
      "image/png": "[encoded data removed]",
      "text/plain": [
       "<Figure size 432x288 with 1 Axes>"
      ]
     },
     "metadata": {
      "needs_background": "light"
     },
     "output_type": "display_data"
    }
   ],
   "source": [
    "import os\n",
    "from keras.callbacks import EarlyStopping,ReduceLROnPlateau\n",
    "from keras import optimizers\n",
    "\n",
    "\n",
    "early_stoping = EarlyStopping(monitor='val_loss',patience=20,verbose=2)\n",
    "reduce_lr = ReduceLROnPlateau(monitor='val_loss',patience=5,mode='auto')\n",
    "\n",
    "train_data = np.load('vgg/bottleneck_features_train.npy')\n",
    "\n",
    "# print(train_data.shape)\n",
    "train_labels = np.array([1]*5636+[0]*5636)\n",
    "\n",
    "validation_data = np.load('vgg/bottleneck_features_vilad.npy')\n",
    "validation_label = np.array([1]*623+[0]*623)\n",
    "\n",
    "\n",
    "model = Sequential()\n",
    "model.add(Flatten(input_shape=train_data.shape[1:]))\n",
    "model.add(Dense(512,activation='relu'))\n",
    "# model.add(Dropout(0.5))\n",
    "model.add(Dense(32,activation='relu'))\n",
    "model.add(Dropout(0.25))\n",
    "model.add(Dense(1,activation='sigmoid'))\n",
    "# rmsprop = optimizers.rmsprop(lr=0.001)\n",
    "\n",
    "model.compile(optimizer='sgd',\n",
    "              loss='binary_crossentropy',\n",
    "              metrics=['accuracy'])\n",
    "history = model.fit(train_data,train_labels,\n",
    "          validation_data=(validation_data,validation_label[:validation_data.shape[0]]),\n",
    "         epochs=200,\n",
    "          batch_size=16,\n",
    "          callbacks=[early_stoping,reduce_lr]\n",
    "\n",
    "         )\n",
    "plot_training(history)"
   ]
  },
  {
   "cell_type": "code",
   "execution_count": 14,
   "metadata": {},
   "outputs": [],
   "source": [
    "import os\n",
    "from PIL import Image\n",
    "\n",
    "vgg = applications.VGG16(include_top=False,weights='imagenet')\n",
    "\n",
    "\n",
    "def prediction_cla(file):\n",
    "    data_list = os.listdir(file)\n",
    "    #     print(data_list)\n",
    "    for i in data_list:\n",
    "        if i[:2] == '30':\n",
    "            img = Image.open(file+'/'+i)\n",
    "            img = img.convert('RGB')\n",
    "            img = img.resize((224,224),Image.ANTIALIAS)\n",
    "            img = np.array([np.array(img)])/255\n",
    "            x = vgg.predict(img)\n",
    "            result = model.predict_proba(x)\n",
    "            value = str(result[0][0])\n",
    "#             print(x.shape)\n",
    "#             print(model.predict_proba(img))\n",
    "            with open('reuslt.csv','a+') as f:\n",
    "                if data_list.index(i) == 0:\n",
    "                    f.write('pic_id,pred'+'\\n')\n",
    "                    f.write('pic_'+i.replace('.jpg','')+','+value+'\\n')\n",
    "                else:\n",
    "                    f.write('pic_'+i.replace('.jpg','')+','+value+'\\n')\n",
    "\n",
    "    \n",
    "prediction_cla('Test_B/Test_B')"
   ]
  },
  {
   "cell_type": "code",
   "execution_count": null,
   "metadata": {},
   "outputs": [],
   "source": []
  }
 ],
 "metadata": {
  "kernelspec": {
   "display_name": "python3(dl)",
   "language": "python",
   "name": "dl"
  },
  "language_info": {
   "codemirror_mode": {
    "name": "ipython",
    "version": 3
   },
   "file_extension": ".py",
   "mimetype": "text/x-python",
   "name": "python",
   "nbconvert_exporter": "python",
   "pygments_lexer": "ipython3",
   "version": "3.5.2"
  }
 },
 "nbformat": 4,
 "nbformat_minor": 2
}
